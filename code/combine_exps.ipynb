{
 "cells": [
  {
   "cell_type": "code",
   "execution_count": 1,
   "id": "1bef73da",
   "metadata": {},
   "outputs": [
    {
     "name": "stdout",
     "output_type": "stream",
     "text": [
      "Successfully loaded ../data/07092025_IF_scan/plate_config.yaml\n",
      "Successfully loaded ../data/07182025_IF_scan/plate_config.yaml\n"
     ]
    }
   ],
   "source": [
    "import os\n",
    "import yaml\n",
    "import numpy as np\n",
    "import pandas as pd\n",
    "import matplotlib.pyplot as plt\n",
    "import seaborn as sns\n",
    "from plateconfig import PlateConfig\n",
    "\n",
    "\n",
    "all_dirs = [\"../data/07092025_IF_scan\", \"../data/07182025_IF_scan\"]\n",
    "config_dict = {}\n",
    "if_data_file = \"Cell.csv\"\n",
    "\n",
    "for data_dir in all_dirs:\n",
    "\tcolumns = [\"WellId\", \"CircTotalIntenCh2\", \"CircTotalIntenCh3\"]\n",
    "\n",
    "\tconfig_fname = f\"{data_dir}/plate_config.yaml\"\n",
    "\tif os.path.exists(config_fname):\n",
    "\t\tplate_obj = PlateConfig(config_fname)\n",
    "\t\tconfig_dict[data_dir] = plate_obj\n",
    "\telse:\n",
    "\t\tprint(f\"Config file does not exist.\")\n"
   ]
  },
  {
   "cell_type": "code",
   "execution_count": null,
   "id": "d715d04d",
   "metadata": {},
   "outputs": [
    {
     "name": "stdout",
     "output_type": "stream",
     "text": [
      "['B', 'B', 'B', 'B', 'B', 'B', 'B', 'B', 'B', 'B', 'C', 'C', 'C', 'C', 'C', 'C', 'C', 'C', 'C', 'C', 'D', 'D', 'D', 'D', 'D', 'D', 'D', 'D', 'D', 'D']\n",
      "['B', 'B', 'B', 'B', 'B', 'B', 'B', 'B', 'B', 'B', 'C', 'C', 'C', 'C', 'C', 'C', 'C', 'C', 'C', 'C', 'D', 'D', 'D', 'D', 'D', 'D', 'D', 'D', 'D', 'D', 'E', 'E', 'E', 'E', 'E', 'E', 'E', 'E', 'E', 'E']\n"
     ]
    }
   ],
   "source": [
    "dfs = []\n",
    "for dir in all_dirs:\n",
    "\tfull_fname = f\"{dir}/{if_data_file}\"\n",
    "\tdf = pd.read_csv(full_fname, usecols=columns)\n",
    "\tdf[\"WellId\"] = [x.strip() for x in df[\"WellId\"]] # remove leading/trailing spaces in WellIds\n",
    "\n",
    "\t# get the corresponding configuration dictionary\n",
    "\tplate_config = config_dict[dir]\n",
    " \n",
    "\t# Combine control wells (i.e., B1 and B2) into a single WellId\n",
    "\tcontrol_well_tuples = [(1,2), (7,8)]\n",
    "\tfor tup in control_well_tuples:\n",
    "\t\tfor row in plate_config.row_to_patient.keys():\n",
    "\t\t\twell_id1 = f\"{row}{tup[0]:02d}\"\n",
    "\t\t\twell_id2 = f\"{row}{tup[1]:02d}\"\n",
    "\t\t\tdf = df.replace(well_id2, well_id1)\n",
    "\n",
    "\tstat1_means = df.groupby(\"WellId\")[\"CircTotalIntenCh2\"].mean()\n",
    "\tstat1_sems = df.groupby(\"WellId\")[\"CircTotalIntenCh2\"].sem()\n",
    "\tstat3_means = df.groupby(\"WellId\")[\"CircTotalIntenCh3\"].mean()\n",
    "\tstat3_sems = df.groupby(\"WellId\")[\"CircTotalIntenCh3\"].sem()\n",
    "\n",
    "\tstat_df = pd.concat([stat1_means, stat1_sems, stat3_means, stat3_sems], axis=1)\n",
    "\tstat_df.columns = [\"STAT1 Mean\", \"STAT1 SEM\", \"STAT3 Mean\", \"STAT3 SEM\"]\n",
    "\tstat_df.index = [x.strip() for x in stat_df.index]\n",
    "\t\n",
    " \n",
    "\t# Assign various characteristics based on wells using the dictionaries above\n",
    "\trows = [x.strip()[0] for x in stat_df.index.values]\n",
    "\tcols = [int(x.strip()[1:]) for x in stat_df.index.values]\n",
    "\tstat_df[\"STAT\"] = [plate_config.column_to_stain[x] for x in cols]\n",
    "\tstat_df[\"PatientId\"] = [plate_config.row_to_patient[x] for x in rows]\n",
    "\tstat_df[\"IL-6 Concentration\"] = [\"10 ng/mL\" for x in cols]\n",
    "\tstat_df[\"Time\"] = [plate_config.column_to_t_pts[x] for x in cols]\n",
    "\tstat_df[\"Replicate\"] = [plate_config.row_to_replicate[x] for x in rows]\n",
    "\t\n",
    "\tplate_config.set_plate_data(stat_df)\n",
    "\tplate_config.calc_log_fold_changes()\n",
    "\tplate_config.calc_percent_max()"
   ]
  },
  {
   "cell_type": "code",
   "execution_count": 4,
   "id": "8cb38a0c",
   "metadata": {},
   "outputs": [
    {
     "name": "stdout",
     "output_type": "stream",
     "text": [
      "[np.int64(617), np.int64(626), np.int64(617), np.int64(626), np.int64(6170)]\n",
      "[ 617  626 6170]\n"
     ]
    }
   ],
   "source": [
    "all_patient_ids = []\n",
    "for x in config_dict.values():\n",
    "    xids = x.get_unique_patient_ids()\n",
    "    all_patient_ids = all_patient_ids + xids \n",
    "print(all_patient_ids)\n",
    "unique_patient_ids = np.unique(all_patient_ids)\n",
    "print(unique_patient_ids)"
   ]
  },
  {
   "cell_type": "code",
   "execution_count": null,
   "id": "dded1cbd",
   "metadata": {},
   "outputs": [],
   "source": [
    "figs = []\n",
    "axs = []\n",
    "for patient in unique_patient_ids:\n",
    "\tnew_fig, new_axs = plt.subplots(2,2, figsize=(15,10), dpi=300)\n",
    "\tfigs.append(new_fig)\n",
    "\taxs.append(new_axs)\n",
    "\n",
    "# Select tSTAT measurement\n",
    "df = og_df[(og_df[\"STAT\"] == \"tSTAT\")]\n",
    "\n",
    "for pat, cur_axs in zip(df[\"PatientId\"].unique(), [axs1, axs2, axs3, axs4, axs5]):\n",
    "\tstat1_ax = cur_axs[0][0]\n",
    "\tstat3_ax = cur_axs[0][1]\n",
    "\tfor rep in df[\"Replicate\"].unique():\n",
    "\t\tselect_df = df.loc[(df[\"PatientId\"] == pat) & (df[\"Replicate\"]== rep)]\n",
    "\t\tstat1_ax.errorbar(x=select_df[\"Time\"], y=select_df[\"STAT1 Mean\"], yerr=select_df[\"STAT1 SEM\"],\n",
    "\t\t\t\t\tmarker=replicate_to_marker[rep], ms=ms, color=color,\n",
    "\t\t\t\t\tls=\"-\", label=f\"{rep}\", capsize=2)\n",
    "\t\t\n",
    "\t\tstat3_ax.errorbar(x=select_df[\"Time\"], y=select_df[\"STAT3 Mean\"], yerr=select_df[\"STAT3 SEM\"],\n",
    "\t\t\t\t\tmarker=replicate_to_marker[rep], ms=ms, color=color,\n",
    "\t\t\t\t\tls=\"-\", label=f\"{rep}\", capsize=2)\n",
    "\tstat1_ax.set_ylabel(\"MFI\")\n",
    "\tstat1_ax.set_xlabel(\"Time post-stimulation (minutes)\")\n",
    "\tstat1_ax.legend(title=\"Replicate\")\n",
    "\tstat1_ax.set_title(\"tSTAT1\")\n",
    "\tstat3_ax.set_ylabel(\"MFI\")\n",
    "\tstat3_ax.set_xlabel(\"Time post-stimulation (minutes)\")\n",
    "\tstat3_ax.legend(title=\"Replicate\")\n",
    "\tstat3_ax.set_title(\"tSTAT3\")\n",
    "\n",
    "\n",
    "# Select pSTAT measurement\n",
    "df = og_df[og_df[\"STAT\"] == \"pSTAT\"]\n",
    "\n",
    "for pat, cur_axs in zip(df[\"PatientId\"].unique(), [axs1, axs2, axs3, axs4, axs5]):\n",
    "\t# Plot tSTATs from first scan\n",
    "\tstat1_ax = cur_axs[1][0]\n",
    "\tstat3_ax = cur_axs[1][1]\n",
    "\t#for il6 in df[\"IL-6 Concentration\"].unique():\n",
    "\tfor rep in df[\"Replicate\"].unique():\n",
    "\t\tselect_df = df.loc[(df[\"PatientId\"] == pat) & (df[\"Replicate\"] == rep)]\n",
    "\t\tstat1_ax.errorbar(x=select_df[\"Time\"], y=select_df[\"STAT1 Mean\"], yerr=select_df[\"STAT1 SEM\"],\n",
    "\t\t\t\t\tmarker=replicate_to_marker[rep], ms=ms, color=color,\n",
    "\t\t\t\t\tls=\"-\", label=f\"{rep}\", capsize=2)\n",
    "\t\t\n",
    "\t\tstat3_ax.errorbar(x=select_df[\"Time\"], y=select_df[\"STAT3 Mean\"], yerr=select_df[\"STAT3 SEM\"],\n",
    "\t\t\t\t\tmarker=replicate_to_marker[rep], ms=ms, color=color,\n",
    "\t\t\t\t\tls=\"-\", label=f\"{rep}\", capsize=2)\n",
    "\tstat1_ax.set_ylabel(\"MFI\")\n",
    "\tstat1_ax.set_xlabel(\"Time post-stimulation (minutes)\")\n",
    "\tstat1_ax.legend(title=\"Replicate\")\n",
    "\tstat1_ax.set_title(\"pSTAT1\")\n",
    "\tstat3_ax.set_ylabel(\"MFI\")\n",
    "\tstat3_ax.set_xlabel(\"Time post-stimulation (minutes)\")\n",
    "\tstat3_ax.legend(title=\"Replicate\")\n",
    "\tstat3_ax.set_title(\"pSTAT3\")\n",
    "\n",
    "\n",
    "id1 = df[\"PatientId\"].unique()[0]\n",
    "id2 = df[\"PatientId\"].unique()[1]\n",
    "id3 = df[\"PatientId\"].unique()[2]\n",
    "id4 = df[\"PatientId\"].unique()[3]\n",
    "id5 = df[\"PatientId\"].unique()[4]\n",
    "\n",
    "fig1.suptitle(f\"Patient {id1}\")\n",
    "fig2.suptitle(f\"Patient {id2}\");\n",
    "fig3.suptitle(f\"Patient {id3}\")\n",
    "fig4.suptitle(f\"Patient {id4}\")\n",
    "fig5.suptitle(f\"Patient {id5}\")\n"
   ]
  },
  {
   "cell_type": "code",
   "execution_count": null,
   "id": "5b52854d",
   "metadata": {},
   "outputs": [],
   "source": []
  }
 ],
 "metadata": {
  "kernelspec": {
   "display_name": "visIF",
   "language": "python",
   "name": "python3"
  },
  "language_info": {
   "codemirror_mode": {
    "name": "ipython",
    "version": 3
   },
   "file_extension": ".py",
   "mimetype": "text/x-python",
   "name": "python",
   "nbconvert_exporter": "python",
   "pygments_lexer": "ipython3",
   "version": "3.10.17"
  }
 },
 "nbformat": 4,
 "nbformat_minor": 5
}
