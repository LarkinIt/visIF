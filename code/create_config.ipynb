{
 "cells": [
  {
   "cell_type": "code",
   "execution_count": null,
   "id": "5435a065",
   "metadata": {},
   "outputs": [
    {
     "name": "stdout",
     "output_type": "stream",
     "text": [
      "Config file created and saved to ../data/07182025_IF_scan/plate_config.yaml for future use\n"
     ]
    }
   ],
   "source": [
    "import os\n",
    "import yaml\n",
    "\n",
    "data_dir = \"../data/072025_IF_scan\"\n",
    "if_data_file = \"Cell.csv\"\n",
    "\n",
    "config_fname = f\"{data_dir}/plate_config.yaml\"\n",
    "\n",
    "## Enter configuration below\n",
    "column_to_stain = dict(zip(range(1,13), [\"pSTAT\"]*6 + [\"tSTAT\"] * 6))\n",
    "#column_to_stain = dict(zip(range(1,13), [\"pSTAT\"]*12))\n",
    "\n",
    "row_to_patient = {\n",
    "    #\"A\":626,\n",
    "    \"B\":626,\n",
    "    \"C\":617,\n",
    "    \"D\":617,\n",
    "    \"E\":6170,\n",
    "    #\"F\":6170,\n",
    "    #\"G\":6170,\n",
    "    #\"H\":6171\n",
    "}\t\n",
    "\n",
    "column_to_t_pts = {\n",
    "    1:\"0\",\n",
    "    2:\"0\",\n",
    "    3:\"20\",\n",
    "    4:\"40\",\n",
    "    5:\"60\",\n",
    "    6:\"90\",\n",
    "    7:\"0\",\n",
    "    8:\"0\",\n",
    "    9:\"20\",\n",
    "    10:\"40\",\n",
    "    11:\"60\",\n",
    "    12:\"90\"\n",
    "}\n",
    "\n",
    "row_to_replicate = {\n",
    "    #\"A\":1,\n",
    "    \"B\":1,\n",
    "    \"C\":1,\n",
    "    \"D\":2,\n",
    "    \"E\":1,\n",
    "    #\"F\":1,\n",
    "    #\"G\":2,\n",
    "    #\"H\":1    \n",
    "}\n",
    "\n",
    "replicate_to_marker = {\n",
    "    1:\"o\",\n",
    "    2:\"x\",\n",
    "}\n",
    "\n",
    "config_vars = [\"column_to_stain\", \"row_to_patient\", \"column_to_t_pts\", \"row_to_replicate\", \"replicate_to_marker\"]\n",
    "# Build a wrapper dictionary using variable names\n",
    "wrapped_dict = {var_name: globals()[var_name] for var_name in config_vars}\n",
    "\n",
    "# Save to YAML\n",
    "with open(config_fname, \"w\") as f:\n",
    "    yaml.dump(wrapped_dict, f, default_flow_style=False)\n",
    "\n",
    "print(f\"Config file created and saved to {config_fname} for future use\")"
   ]
  },
  {
   "cell_type": "code",
   "execution_count": null,
   "id": "cec4dafa",
   "metadata": {},
   "outputs": [],
   "source": []
  }
 ],
 "metadata": {
  "kernelspec": {
   "display_name": "visIF",
   "language": "python",
   "name": "python3"
  },
  "language_info": {
   "codemirror_mode": {
    "name": "ipython",
    "version": 3
   },
   "file_extension": ".py",
   "mimetype": "text/x-python",
   "name": "python",
   "nbconvert_exporter": "python",
   "pygments_lexer": "ipython3",
   "version": "3.10.17"
  }
 },
 "nbformat": 4,
 "nbformat_minor": 5
}
